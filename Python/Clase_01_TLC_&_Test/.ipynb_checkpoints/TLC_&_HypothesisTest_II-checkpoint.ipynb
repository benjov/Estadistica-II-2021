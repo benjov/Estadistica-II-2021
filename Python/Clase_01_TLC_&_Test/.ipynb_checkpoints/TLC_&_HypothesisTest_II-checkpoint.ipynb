{
 "cells": [
  {
   "cell_type": "markdown",
   "metadata": {},
   "source": [
    "# Clase: Teorema del límite central e introducción a las pruebas de hipótesis (cont.)"
   ]
  },
  {
   "cell_type": "code",
   "execution_count": null,
   "metadata": {},
   "outputs": [],
   "source": [
    "# Dependencies and Setup\n",
    "import pandas as pd\n",
    "import numpy as np\n",
    "import matplotlib.pyplot as plt\n",
    "from scipy.stats import linregress\n",
    "import scipy.stats as stats\n",
    "import seaborn as sns\n",
    "from scipy.stats import norm\n",
    "from scipy.stats import t\n",
    "from scipy.stats import chisquare\n",
    "from scipy.stats import f\n",
    "from scipy import stats\n",
    "\n",
    "# Omiting WARNINGS\n",
    "import warnings\n",
    "warnings.filterwarnings('ignore')"
   ]
  },
  {
   "cell_type": "markdown",
   "metadata": {},
   "source": [
    "## 1. Importación de datos:\n",
    "* Source: A. Bhatnagar and V.K. Mehta (2007). \"Efficacy of Deltamethrin and Cyfluthrin Impregnated Cloth Over Uniform Against Mosquito Bites,\"Medical Journal Armed Forces India, Vol. 63, pp. 120-122.\n",
    "\n",
    "* Description: Comparison of 5 pretreated patches to reduce mosquito human contact. \n",
    "\n",
    "* 30 replicates per treatment.\n",
    "\n",
    "* Treatments:\n",
    "\n",
    "1=Odomos, 2=Deltamethrin, 3=Cyfluthrin, 4=D+O, 5=C+O\n",
    "\n",
    "* Variables: treatment mosq - The number of mosquitoes caught in one hour (Per Man-Hour Mosquito Catch)"
   ]
  },
  {
   "cell_type": "code",
   "execution_count": null,
   "metadata": {},
   "outputs": [],
   "source": [
    "# Importamos datos:\n",
    "df = pd.read_csv(\"mosquito.csv\")\n",
    "df.head()"
   ]
  },
  {
   "cell_type": "markdown",
   "metadata": {},
   "source": [
    "## 2. Pruebas de Hipótesis paras Medias"
   ]
  },
  {
   "cell_type": "markdown",
   "metadata": {},
   "source": [
    "Sea $\\{ X_1, X_2, \\ldots, X_n \\}$ una muestra aleatoria de tamaño $n$ de una población con función de densidad de probabilidad normal estándar ($N(0, 1)$), donde $\\sigma$ es conocida. Sea:\n",
    "\\begin{equation*}\n",
    "    Z = \\frac{\\overline{X} - \\mu_0}{\\frac{\\sigma}{\\sqrt{n}}}\n",
    "\\end{equation*}\n",
    "\n",
    "En este caso cabe aclarar que todas las pruebas estan basadas en muestras aleatorias tomadas de poblaciones con distribuciones normales o, en su caso, son muestras suficientemente grandes ($n > 30$) para utilizar la aproximación normal que nos da el uso del Teorema del Límite Central. Partamos suponiendo que queremos probar alguna de las siguientes hipótesis:\n",
    "\\begin{eqnarray}\n",
    "    H_0 & : & \\mu = \\mu_0 \\nonumber \\\\\n",
    "    H_a & : & \n",
    "        \\begin{cases}\n",
    "            \\mu \\neq \\mu_0 \\\\\n",
    "            \\text{ o } \\\\\n",
    "            \\mu > \\mu_0 \\\\\n",
    "            \\text{ o } \\\\\n",
    "            \\mu < \\mu_0\n",
    "        \\end{cases}\n",
    "    \\label{H0_Medias}\n",
    "\\end{eqnarray}\n",
    "\n",
    "\n",
    "Dada la hipótesis nula proponemos las siguientes regiones críticas o de su rechazo respectivas a las hipótesis alternativas en la ecuación anterior:\n",
    "\\begin{equation*}\n",
    "    \\begin{cases}\n",
    "        | Z | \\geq z_{\\alpha/2} \\\\\n",
    "        \\text{ o } \\\\\n",
    "        Z \\geq z_\\alpha \\\\\n",
    "        \\text{ o } \\\\\n",
    "        Z \\leq - z_\\alpha\n",
    "    \\end{cases}\n",
    "\\end{equation*}\n"
   ]
  },
  {
   "cell_type": "code",
   "execution_count": null,
   "metadata": {},
   "outputs": [],
   "source": [
    "# Establescamos los parámetros de la normal:\n",
    "Mu = 8.8 \n",
    "Sigma = 10\n",
    "\n",
    "# Tamaño:\n",
    "n = 15\n",
    "\n",
    "#\n",
    "Sample = np.random.normal(Mu, Sigma, n)\n",
    "Sample"
   ]
  },
  {
   "cell_type": "code",
   "execution_count": null,
   "metadata": {},
   "outputs": [],
   "source": [
    "# Media muestral\n",
    "Sample.mean()"
   ]
  },
  {
   "cell_type": "code",
   "execution_count": null,
   "metadata": {},
   "outputs": [],
   "source": [
    "# Transformación Z:\n",
    "\n",
    "Z = (Sample.mean() - Mu)/(Sigma/np.sqrt(n))\n",
    "Z"
   ]
  },
  {
   "cell_type": "markdown",
   "metadata": {},
   "source": [
    "### a) Supongamos que queremos probar que la hipótesis de que la muestra tiene una media IGUAL a la media de donde se extrajo la muestra, contra la alternativa de que la media es:\n",
    "$$H_0 : \\mu = 8.8$$\n",
    "$$H_1 : \\mu \\neq 8.8$$\n",
    "\n",
    "* Retomemos el concepto de región crítica, zona de rechazo o Error Tipo I ($\\alpha$). \n",
    "\n",
    "* A continuación, grafiquemos una normal estándar.\n",
    "\n",
    "* Consideremos un Erro Tipo I = 5% o  $\\alpha = 0.05$, entonces los valores criticos son:\n",
    "\n",
    "* $z_{\\alpha / 2} = z_{0.025} = 1.96$"
   ]
  },
  {
   "cell_type": "code",
   "execution_count": null,
   "metadata": {},
   "outputs": [],
   "source": [
    "# Datos de una normal estándar:\n",
    "Normal = np.random.normal(0, 1, 1000000)\n",
    "\n",
    "#\n",
    "fig, ax = plt.subplots()\n",
    "fig = sns.distplot(Normal, hist = False, kde = True,\n",
    "             color = 'blue',\n",
    "             kde_kws={'linewidth': 3})\n",
    "ax.set_xlabel('Z')\n",
    "ax.set_ylabel('Frequency')\n",
    "ax.set_title('Distribución Normal (0, 1) y \\n regiones de rechazo para una prueba de dos colas')\n",
    "\n",
    "min_ylim, max_ylim = plt.ylim() # Extraemos límites del eje Y\n",
    "\n",
    "# Delimitamos las regiones para una prueba de dos colas\n",
    "plt.axvline(1.96, color = 'green', linestyle = 'dashed', linewidth = 2) # agregamos línea vertical\n",
    "plt.text(1.96*1.1, max_ylim*0.9, 'z = {:.2f}'.format(1.96))\n",
    "\n",
    "plt.axvline(-1.96, color = 'green', linestyle = 'dashed', linewidth = 2)\n",
    "plt.text(-1.96*1.9, max_ylim*0.9, 'z = {:.2f}'.format(-1.96))\n",
    "\n",
    "\n",
    "plt.show()"
   ]
  },
  {
   "cell_type": "code",
   "execution_count": null,
   "metadata": {},
   "outputs": [],
   "source": [
    "# ¿qué área se acumula hasta 1.96? = F(1.96)\n",
    "norm.cdf(1.96)"
   ]
  },
  {
   "cell_type": "code",
   "execution_count": null,
   "metadata": {},
   "outputs": [],
   "source": [
    "# ¿qué área se acumula después de 1.96?\n",
    "1 - norm.cdf(1.96)"
   ]
  },
  {
   "cell_type": "code",
   "execution_count": null,
   "metadata": {},
   "outputs": [],
   "source": [
    "# ¿qué área se acumula después de 1.96 y antes de -1.96? \\alpha\n",
    "2*(1 - norm.cdf(1.96))"
   ]
  },
  {
   "cell_type": "markdown",
   "metadata": {},
   "source": [
    "* En una prueba de dos colas, el P-Value es el área la curva normal que se acumula antes y después del valor absoluto de Z.\n",
    "\n",
    "* Diremos que rechazamos la hipótesis nula si el P-Value es menor al $\\alpha$"
   ]
  },
  {
   "cell_type": "code",
   "execution_count": null,
   "metadata": {},
   "outputs": [],
   "source": [
    "# P-Value, ¿podemos rechazar la hipótesis nula?\n",
    "P_Value = 2*(1 - norm.cdf( abs(Z) ))\n",
    "Z, P_Value"
   ]
  },
  {
   "cell_type": "markdown",
   "metadata": {},
   "source": [
    "### b) Supongamos que queremos probar que la hipótesis de que la muestra tiene una media MAYOR a la media de donde se extrajo la muestra, contra la alternativa de que la media es:\n",
    "$$H_0 : \\mu = 8.8$$\n",
    "$$H_1 : \\mu > 8.8$$\n",
    "\n",
    "* Consideremos un Erro Tipo I = 5% o  $\\alpha = 0.05$, entonces los valores criticos son:\n",
    "\n",
    "* $z_{\\alpha} = z_{0.05} = 1.64$"
   ]
  },
  {
   "cell_type": "code",
   "execution_count": null,
   "metadata": {},
   "outputs": [],
   "source": [
    "# Datos de una normal estándar:\n",
    "Normal = np.random.normal(0, 1, 1000000)\n",
    "\n",
    "#\n",
    "fig, ax = plt.subplots()\n",
    "fig = sns.distplot(Normal, hist = False, kde = True,\n",
    "             color = 'blue',\n",
    "             kde_kws={'linewidth': 3})\n",
    "ax.set_xlabel('Z')\n",
    "ax.set_ylabel('Frequency')\n",
    "ax.set_title('Distribución Normal (0, 1) y \\n región de rechazo para una prueba de una cola derecha')\n",
    "\n",
    "min_ylim, max_ylim = plt.ylim() # Extraemos límites del eje Y\n",
    "\n",
    "# Delimitamos las regiones para una prueba de dos colas\n",
    "plt.axvline(1.64, color = 'red', linestyle = 'dashed', linewidth = 2) # agregamos línea vertical\n",
    "plt.text(1.64*1.1, max_ylim*0.9, 'z = {:.2f}'.format(1.64))\n",
    "\n",
    "plt.show()"
   ]
  },
  {
   "cell_type": "markdown",
   "metadata": {},
   "source": [
    "* En una prueba de una cola derecha, el P-Value es el área la curva normal que se acumula después del valor de Z.\n",
    "\n",
    "* Diremos que rechazamos la hipótesis nula si el P-Value es menor al $\\alpha$"
   ]
  },
  {
   "cell_type": "code",
   "execution_count": null,
   "metadata": {},
   "outputs": [],
   "source": [
    "# ¿podemos rechazar la hipótesis nula?\n",
    "    \n",
    "Z"
   ]
  },
  {
   "cell_type": "markdown",
   "metadata": {},
   "source": [
    "### c) Supongamos que queremos probar que la hipótesis de que la muestra tiene una media MENOR a la media de donde se extrajo la muestra, contra la alternativa de que la media es:\n",
    "$$H_0 : \\mu = 8.8$$\n",
    "$$H_1 : \\mu < 8.8$$\n",
    "\n",
    "* Consideremos un Erro Tipo I = 5% o  $\\alpha = 0.05$, entonces los valores criticos son:\n",
    "\n",
    "* $- z_{\\alpha} = - z_{0.05} = - 1.64$"
   ]
  },
  {
   "cell_type": "code",
   "execution_count": null,
   "metadata": {},
   "outputs": [],
   "source": [
    "# Datos de una normal estándar:\n",
    "Normal = np.random.normal(0, 1, 1000000)\n",
    "\n",
    "#\n",
    "fig, ax = plt.subplots()\n",
    "fig = sns.distplot(Normal, hist = False, kde = True,\n",
    "             color = 'blue',\n",
    "             kde_kws={'linewidth': 3})\n",
    "ax.set_xlabel('Z')\n",
    "ax.set_ylabel('Frequency')\n",
    "ax.set_title('Distribución Normal (0, 1) y \\n región de rechazo para una prueba de una cola izquierda')\n",
    "\n",
    "min_ylim, max_ylim = plt.ylim() # Extraemos límites del eje Y\n",
    "\n",
    "# Delimitamos las regiones para una prueba de dos colas\n",
    "plt.axvline(-1.96, color = 'red', linestyle = 'dashed', linewidth = 2) # agregamos línea vertical\n",
    "plt.text(-1.96*1.9, max_ylim*0.9, 'z = {:.2f}'.format(-1.64))\n",
    "\n",
    "plt.show()"
   ]
  },
  {
   "cell_type": "markdown",
   "metadata": {},
   "source": [
    "* En una prueba de una cola derecha, el P-Value es el área la curva normal que se acumula antes del valor de Z.\n",
    "\n",
    "* Diremos que rechazamos la hipótesis nula si el P-Value es menor al $\\alpha$"
   ]
  },
  {
   "cell_type": "code",
   "execution_count": null,
   "metadata": {},
   "outputs": [],
   "source": [
    "# ¿podemos rechazar la hipótesis nula?\n",
    "\n",
    "Z"
   ]
  },
  {
   "cell_type": "markdown",
   "metadata": {},
   "source": [
    "¿Qué pasa cuando desconocemos la varianza? En esos casos, al igual que en los intervalos de confianza, utilizaremos una estadística:\n",
    "\\begin{equation*}\n",
    "    T = \\frac{\\overline{X} - \\mu_0}{\\frac{\\hat{\\sigma}}{\\sqrt{n}}} \\sim t_{[n - 1]}\n",
    "\\end{equation*}\n",
    "\n",
    "Donde:\n",
    "\\begin{equation*}\n",
    "    \\hat{\\sigma}^2 = \\sum_{i = 1}^n \\frac{ (x_i - \\overline{X})^2 }{n - 1}\n",
    "\\end{equation*}\n",
    "\n",
    "En estos casos, de forma similar queremos probar las hipótesis de la ecuación mostradas anteriormente, para la cual proponemos las siguientes regiones críticas o de su rechazo, respectivamente,  con las hipótesis alternativas:\n",
    "\\begin{equation*}\n",
    "    \\begin{cases}\n",
    "        | T | \\geq t_{[\\alpha/2, n -1]} \\\\\n",
    "        \\text{ o } \\\\\n",
    "        T \\geq t_{[\\alpha, n -1]} \\\\\n",
    "        \\text{ o } \\\\\n",
    "        T \\leq - t_{[\\alpha, n -1]}\n",
    "    \\end{cases}\n",
    "\\end{equation*}"
   ]
  },
  {
   "cell_type": "code",
   "execution_count": null,
   "metadata": {},
   "outputs": [],
   "source": [
    "# SUPONGAMOS que la media de los datos en la tabla completa es la media poblacional\n",
    "Mu = df['mosq'].mean()\n",
    "\n",
    "Mu"
   ]
  },
  {
   "cell_type": "code",
   "execution_count": null,
   "metadata": {},
   "outputs": [],
   "source": [
    "# Tomemos una muestra de la base\n",
    "N = 40\n",
    "\n",
    "Sample = df['mosq'].sample(n = N, replace = True)\n",
    "Sample.head()"
   ]
  },
  {
   "cell_type": "markdown",
   "metadata": {},
   "source": [
    "Supongamos que queremos probar que la hipótesis de que la muestra tiene una media igual a la media de donde se extrajo la muestra, contra la alternativa de que la media es menor:\n",
    "$$H_0 : \\mu = 7.15$$\n",
    "$$H_1 : \\mu > 7.15$$\n",
    "\n",
    "* Supongamos una región critica $\\alpha = 5\\%$"
   ]
  },
  {
   "cell_type": "code",
   "execution_count": null,
   "metadata": {},
   "outputs": [],
   "source": [
    "# Media y Desviación Estándar muestrales:\n",
    "Media = Sample.mean()\n",
    "\n",
    "Sigma = Sample.std()\n",
    "\n",
    "# Transformación T:\n",
    "T = (Media - Mu)/(Sigma/np.sqrt(N))\n",
    "\n",
    "Media, T"
   ]
  },
  {
   "cell_type": "code",
   "execution_count": null,
   "metadata": {},
   "outputs": [],
   "source": [
    "# Datos de una t-Student estándar:\n",
    "T_Student = np.random.standard_t(N, 1000000)\n",
    "\n",
    "#\n",
    "fig, ax = plt.subplots()\n",
    "fig = sns.distplot(T_Student, hist = False, kde = True,\n",
    "             color = 'blue',\n",
    "             kde_kws={'linewidth': 3})\n",
    "ax.set_xlabel('T')\n",
    "ax.set_ylabel('Frequency')\n",
    "ax.set_title('Distribución t-Student de N g.l. y \\n región de rechazo para una prueba de una cola derecha')\n",
    "\n",
    "min_ylim, max_ylim = plt.ylim() # Extraemos límites del eje Y\n",
    "\n",
    "# Delimitamos las regiones para una prueba de dos colas\n",
    "plt.axvline(1.648, color = 'red', linestyle = 'dashed', linewidth = 2) # agregamos línea vertical\n",
    "plt.text(1.648*1.1, max_ylim*0.9, 't[N-1] = {:.3f}'.format(1.648))\n",
    "\n",
    "plt.show()"
   ]
  },
  {
   "cell_type": "markdown",
   "metadata": {},
   "source": [
    "* El valor de tablas $t_{[\\alpha, n - 1]} = t_{[0.05, 39]} = 1.684$"
   ]
  },
  {
   "cell_type": "code",
   "execution_count": null,
   "metadata": {},
   "outputs": [],
   "source": [
    "# P-Value, ¿podemos rechazar la hipótesis nula?\n",
    "\n",
    "P_Value = 1 - t.cdf(abs(T), N - 1)\n",
    "\n",
    "T, P_Value"
   ]
  },
  {
   "cell_type": "markdown",
   "metadata": {},
   "source": [
    "## 3. Prueba de hipótesis para Varianzas\n",
    "Sea una muestra aleatoria de tamaño $n$ de una población con función de densidad de probabilidad normal.Entonces podemos platear la estructura de las hipótesis de la siguiente forma:\n",
    "\\begin{eqnarray}\n",
    "    H_0 & : & \\sigma^2 = \\sigma^2_0 \\nonumber \\\\\n",
    "    H_a & : & \n",
    "        \\begin{cases}\n",
    "            \\sigma^2 \\neq \\sigma^2_0 \\\\\n",
    "            \\text{ o } \\\\\n",
    "            \\sigma^2 > \\sigma^2_0 \\\\\n",
    "            \\text{ o } \\\\\n",
    "            \\sigma^2 < \\sigma^2_0\n",
    "        \\end{cases}\n",
    "    \\label{H0_Varianza}\n",
    "\\end{eqnarray}\n",
    "\n",
    "Para lo cual establecemos la siguiente estadística:\n",
    "\\begin{equation}\n",
    "    \\chi^2 = \\frac{ (n - 1) \\hat{\\sigma}^2 }{ \\sigma^2_0 } \\sim \\chi^2_{[ n - 1 ]}\n",
    "    \\label{Chi_Varianza}\n",
    "\\end{equation}\n",
    "\n",
    "Donde\n",
    "\\begin{equation*}\n",
    "    \\hat{\\sigma}^2 = \\sum_{i = 1}^n \\frac{ (x_i - \\overline{X})^2 }{n - 1}\n",
    "\\end{equation*}\n",
    "\n",
    "Dada la hipótesis nula proponemos las siguientes regiones críticas o de su rechazo, respectivamente, con las hipótesis alternativas:\n",
    "\\begin{equation*}\n",
    "    \\begin{cases}\n",
    "        \\chi^2 \\geq \\chi^2_{ [\\alpha/2, n-1] } \\text{ o } \\chi^2 \\leq \\chi^2_{ [1 - \\alpha/2, n-1] } \\\\\n",
    "        \\text{ o } \\\\\n",
    "        \\chi^2 \\geq \\chi^2_{ [\\alpha, n-1] } \\\\\n",
    "        \\text{ o } \\\\\n",
    "        \\chi^2 \\leq \\chi^2_{ [1 - \\alpha, n-1] }\n",
    "    \\end{cases}\n",
    "\\end{equation*}\n"
   ]
  },
  {
   "cell_type": "code",
   "execution_count": null,
   "metadata": {},
   "outputs": [],
   "source": [
    "# Establescamos los parámetros de la normal:\n",
    "Mu = 10 \n",
    "Sigma = 5\n",
    "\n",
    "# Tamaño:\n",
    "n = 11\n",
    "\n",
    "#\n",
    "Sample = np.random.normal(Mu, Sigma, n)\n",
    "Sample"
   ]
  },
  {
   "cell_type": "code",
   "execution_count": null,
   "metadata": {},
   "outputs": [],
   "source": [
    "# Varianza muestral:\n",
    "\n",
    "Sigma2 = Sample.std()*Sample.std()\n",
    "Sigma2"
   ]
  },
  {
   "cell_type": "markdown",
   "metadata": {},
   "source": [
    "Supongamos que queremos probar que la hipótesis de que la muestra tiene una varianza IGUAL a la varianza de donde se extrajo la muestra, contra la alternativa de que la varianza es:\n",
    "$$H_0 : \\sigma^2 = 25$$\n",
    "$$H_1 : \\sigma^2 \\neq $$\n",
    "\n",
    "* Retomemos el concepto de región crítica, zona de rechazo o Error Tipo I ($\\alpha$). \n",
    "\n",
    "* A continuación, grafiquemos una normal estándar.\n",
    "\n",
    "* Consideremos un Erro Tipo I = 5% o  $\\alpha = 0.05$, entonces los valores criticos son:\n",
    "\n",
    "* $\\chi^2_{ [\\alpha/2, n-1] } = \\chi^2_{ [0.025, 10] } = 20.50$\n",
    "\n",
    "* $\\chi^2_{ [1 - \\alpha/2, n-1] } = \\chi^2_{ [0.975, 10] } = 3.25$"
   ]
  },
  {
   "cell_type": "code",
   "execution_count": null,
   "metadata": {},
   "outputs": [],
   "source": [
    "# Datos de una Chi cuadrado:\n",
    "\n",
    "N = 10\n",
    "\n",
    "Chisqr = np.random.chisquare(N, 1000000)\n",
    "\n",
    "#\n",
    "fig, ax = plt.subplots()\n",
    "fig = sns.distplot(Chisqr, hist = False, kde = True,\n",
    "             color = 'blue',\n",
    "             kde_kws={'linewidth': 3})\n",
    "ax.set_xlabel('X')\n",
    "ax.set_ylabel('Frequency')\n",
    "ax.set_title('Distribución Chi cuadrado y \\n regiones de rechazo para una prueba de dos colas')\n",
    "\n",
    "min_ylim, max_ylim = plt.ylim() # Extraemos límites del eje Y\n",
    "\n",
    "# Delimitamos las regiones para una prueba de dos colas\n",
    "plt.axvline(20.5, color = 'green', linestyle = 'dashed', linewidth = 2) # agregamos línea vertical\n",
    "plt.text(20.5*1.1, max_ylim*0.9, 'X = {:.2f}'.format(20.5))\n",
    "\n",
    "plt.axvline(3.25, color = 'green', linestyle = 'dashed', linewidth = 2)\n",
    "plt.text(3.25*-1.0, max_ylim*0.9, 'X = {:.2f}'.format(3.25))\n",
    "\n",
    "\n",
    "plt.show()"
   ]
  },
  {
   "cell_type": "code",
   "execution_count": null,
   "metadata": {},
   "outputs": [],
   "source": [
    "# Transformación X: ¿podemos rechazar la hipótesis nula?\n",
    "X = (n - 1)*Sigma2/25\n",
    "X"
   ]
  },
  {
   "cell_type": "markdown",
   "metadata": {},
   "source": [
    "## 4. Pruebas para Diferencias de medias\n",
    "Supongamos 2 muestras aleatorias de tamaños $n_1$ y $n_2$ tomadas de 2 poblaciones normales con medias $\\mu_1$ y $\\mu_2$, respectivamente. Asumamos en un principio que conocemos las varianzas $\\sigma_1^2$ y $\\sigma_2^2$. De esta forma planteamos las hipótesis nula e hipótesis alternativa:\n",
    "\\begin{eqnarray}\n",
    "    H_0 & : & \\mu_1 - \\mu_2 = \\delta \\nonumber \\\\\n",
    "    H_a & : & \n",
    "        \\begin{cases}\n",
    "            \\mu_1 - \\mu_2 \\neq \\delta \\\\\n",
    "            \\text{ o } \\\\\n",
    "            \\mu_1 - \\mu_2 > \\delta \\\\\n",
    "            \\text{ o } \\\\\n",
    "            \\mu_1 - \\mu_2 < \\delta\n",
    "        \\end{cases}\n",
    "    \\label{H0_Dif_Medias}\n",
    "\\end{eqnarray}\n",
    "\n",
    "Utilizaremos la siguiente estadística:\n",
    "\\begin{equation}\n",
    "    Z = \\frac{ \\overline{X}_1 - \\overline{X}_2 - \\delta }{ \\sqrt{ \\frac{\\sigma^2_1}{n_1} + \\frac{\\sigma^2_2}{n_2} } }\n",
    "    \\label{Z_Dif_Medias}\n",
    "\\end{equation}\n",
    "\n",
    "Dada la hipótesis nula proponemos las siguientes regiones críticas o de su rechazo, respectivamente:\n",
    "\\begin{equation*}\n",
    "    \\begin{cases}\n",
    "        | Z | \\geq z_{\\alpha/2} \\\\\n",
    "        \\text{ o } \\\\\n",
    "        Z \\geq z_\\alpha \\\\\n",
    "        \\text{ o } \\\\\n",
    "        Z \\leq - z_\\alpha\n",
    "    \\end{cases}\n",
    "\\end{equation*}"
   ]
  },
  {
   "cell_type": "code",
   "execution_count": null,
   "metadata": {},
   "outputs": [],
   "source": [
    "# Establescamos los parámetros de la normal:\n",
    "Mu_1 = 8\n",
    "\n",
    "Mu_2 = 16\n",
    "\n",
    "Sigma_1 = 10\n",
    "\n",
    "Sigma_2 = 12\n",
    "\n",
    "# Tamaño:\n",
    "n_1 = 15\n",
    "\n",
    "n_2 = 10\n",
    "\n",
    "#\n",
    "Sample_1 = np.random.normal(Mu_1, Sigma_1, n_1)\n",
    "Sample_2 = np.random.normal(Mu_2, Sigma_2, n_2)"
   ]
  },
  {
   "cell_type": "code",
   "execution_count": null,
   "metadata": {},
   "outputs": [],
   "source": [
    "# Datos de una normal estándar:\n",
    "Normal_1 = np.random.normal(Mu_1, Sigma_1, 1000000)\n",
    "Normal_2 = np.random.normal(Mu_2, Sigma_2, 1000000)\n",
    "\n",
    "#\n",
    "fig, ax = plt.subplots()\n",
    "fig = sns.distplot(Normal_1, hist = False, kde = True,\n",
    "             color = 'blue',\n",
    "             kde_kws={'linewidth': 3})\n",
    "#\n",
    "fig = sns.distplot(Normal_2, hist = False, kde = True,\n",
    "             color = 'green',\n",
    "             kde_kws={'linewidth': 3})\n",
    "\n",
    "ax.set_xlabel('Z')\n",
    "ax.set_ylabel('Frequency')\n",
    "ax.set_title('Distribución de dos Normales')\n",
    "\n",
    "#\n",
    "min_ylim, max_ylim = plt.ylim() # Extraemos límites del eje Y\n",
    "\n",
    "# Colocamos una línea para las medias\n",
    "plt.axvline(Sample_1.mean(), color = 'blue', linestyle = 'dashed', linewidth = 2) \n",
    "\n",
    "plt.axvline(Sample_2.mean(), color = 'green', linestyle = 'dashed', linewidth = 2)\n",
    "\n",
    "\n",
    "plt.show()"
   ]
  },
  {
   "cell_type": "markdown",
   "metadata": {},
   "source": [
    "* Supongamos que queremos verificar que:\n",
    "$$H_0 : \\mu_1 - \\mu_2 = 6$$\n",
    "$$H_1 : \\mu_1 - \\mu_2 > 6$$"
   ]
  },
  {
   "cell_type": "code",
   "execution_count": null,
   "metadata": {},
   "outputs": [],
   "source": [
    "# Transformación Z:\n",
    "\n",
    "Z = (Sample_2.mean() - Sample_1.mean() - 6)/np.sqrt(((Sigma_1^2)/n_1) + ((Sigma_2^2)/n_2))\n",
    "Z"
   ]
  },
  {
   "cell_type": "code",
   "execution_count": null,
   "metadata": {},
   "outputs": [],
   "source": [
    "# P-Value, ¿podemos rechazar la hipótesis nula?\n",
    "P_Value = 1 - norm.cdf( Z )\n",
    "Z, P_Value"
   ]
  },
  {
   "cell_type": "markdown",
   "metadata": {},
   "source": [
    "¿Cómo camabia las hipótesis cuando desconocemos las variazas de las poblaciones de donde provienen las muestras? En estos casos utilizaremos una estadística:\n",
    "\\begin{equation}\n",
    "    T = \\frac{ \\overline{X}_1 - \\overline{X}_2 - \\delta }{ \\hat{\\sigma}_p  \\sqrt{ \\frac{1}{n_1} + \\frac{1}{n_2} } } \\sim t_{[ n_1 + n_2 - 2 ]}\n",
    "    \\label{T_Dif_Medias}\n",
    "\\end{equation}\n",
    "\n",
    "Siempre que las varianzas sean las mismas y donde:\n",
    "\\begin{equation*}\n",
    "    \\hat{\\sigma}^2_p = \\frac{ (n_1 - 1)\\hat{\\sigma}^2_1 + (n_2 - 1)\\hat{\\sigma}^2_2 }{n_1 + n_2 - 2}\n",
    "\\end{equation*}\n",
    "\n",
    "\\begin{equation*}\n",
    "    \\hat{\\sigma}^2_i = \\sum_{i = 1}^n \\frac{ (x_i - \\overline{X})^2 }{n - 1}\n",
    "\\end{equation*}\n",
    "\n",
    "De forrma similar establecemos las reglas de rechazo como:\n",
    "\\begin{equation*}\n",
    "    \\begin{cases}\n",
    "        | T | \\geq t_{[\\alpha/2, n_1 + n_2 - 2]} \\\\\n",
    "        \\text{ o } \\\\\n",
    "        T \\geq t_{[\\alpha, n_1 + n_2 - 2]} \\\\\n",
    "        \\text{ o } \\\\\n",
    "        T \\leq - t_{[\\alpha, n_1 + n_2 - 2]}\n",
    "    \\end{cases}\n",
    "\\end{equation*}\n",
    "\n",
    "Así, debemos comparar 2 varianzas de 2 muestras de poblaciones. De esta forma podemos establecer la siguiente estructura de hipótesis:\n",
    "\\begin{eqnarray}\n",
    "    H_0 & : & \\sigma^2_1 = \\sigma^2_2 \\nonumber \\\\\n",
    "    H_a & : & \\sigma^2_1 \\neq \\sigma^2_2 \n",
    "\\end{eqnarray}\n",
    "\n",
    "Para los cual establecemos la siguiente estadística:\n",
    "\\begin{equation}\n",
    "    F = \\frac{ \\frac{\\hat{\\sigma}^2_1}{\\sigma^2_1} }{ \\frac{\\hat{\\sigma}^2_1}{\\sigma^2_2} } = \\frac{ \\hat{\\sigma}^2_2 \\sigma^2_1 }{ \\hat{\\sigma}^2_1 \\sigma^2_2 } \\sim f_{[n_1 - 1, n_2 - 1]}\n",
    "    \\label{F_Varianza}\n",
    "\\end{equation}\n",
    "\n",
    "Dada la hipótesis nula en la ecuación proponemos las siguientes regiones críticas o de su rechazo:\n",
    "\\begin{equation*}\n",
    "    F \\geq f_{[\\alpha/2, n_1 - 1, n_2 - 1]} \\text{ si } \\hat{\\sigma}^2_1 > \\hat{\\sigma}^2_2 \\text{ o } f_{[\\alpha/2, n_2 - 1, n_1 - 1]} \\text{ si } \\hat{\\sigma}^2_2 > \\hat{\\sigma}^2_1 \n",
    "\\end{equation*}\n"
   ]
  },
  {
   "cell_type": "markdown",
   "metadata": {},
   "source": [
    "* Supongamos que queremos tomamos dos muestras, una de 41 elementos y otra de 51 elemetos de la base de mosquitos y que:\n",
    "$$H_0 : \\mu_1 - \\mu_2 = 0$$\n",
    "$$H_1 : \\mu_1 - \\mu_2 \\neq 0$$\n",
    "\n",
    "* Para ello requerimos primero probar si:\n",
    "\\begin{eqnarray}\n",
    "    H_0 & : & \\sigma^2_1 = \\sigma^2_2 \\nonumber \\\\\n",
    "    H_a & : & \\sigma^2_1 \\neq \\sigma^2_2 \n",
    "\\end{eqnarray}"
   ]
  },
  {
   "cell_type": "code",
   "execution_count": null,
   "metadata": {},
   "outputs": [],
   "source": [
    "# Retomemos nuestra base de mosquitos:\n",
    "df.head()"
   ]
  },
  {
   "cell_type": "code",
   "execution_count": null,
   "metadata": {},
   "outputs": [],
   "source": [
    "# Tomemos 5 muestras de la base\n",
    "\n",
    "group1 = df[df[\"treatment\"] == 1][\"mosq\"]\n",
    "group2 = df[df[\"treatment\"] == 2][\"mosq\"]\n",
    "group3 = df[df[\"treatment\"] == 3][\"mosq\"]\n",
    "group4 = df[df[\"treatment\"] == 4][\"mosq\"]\n",
    "group5 = df[df[\"treatment\"] == 5][\"mosq\"]"
   ]
  },
  {
   "cell_type": "code",
   "execution_count": null,
   "metadata": {},
   "outputs": [],
   "source": [
    "# Comparemos 1 y 2:\n",
    "group1.count(), group2.count()"
   ]
  },
  {
   "cell_type": "markdown",
   "metadata": {},
   "source": [
    "* Para las varianzas: Consideremos un Erro Tipo I = 2% o  $\\alpha = 0.02$, entonces los valores criticos son:\n",
    "\n",
    "* $f_{ [\\alpha/2, n_1 - 1, n_2 - 1] } = F_{ [0.01, 29, 29] } = 2.39$\n",
    "\n",
    "* $f_{ [\\alpha/2, n_2 - 1, n_1 - 1] } = F_{ [0.01, 29, 29] } = 2.39$\n",
    "\n",
    "* Para las medias: Consideremos un $\\alpha = 0.05$, entonces los valores criticos son:\n",
    "\n",
    "* $t_{[\\alpha/2, n_1 + n_2 - 2 ]} = t_{[0.025, 30 + 30 - 2 ]} = 2.00$"
   ]
  },
  {
   "cell_type": "code",
   "execution_count": null,
   "metadata": {},
   "outputs": [],
   "source": [
    "# Datos de una F de Fisher:\n",
    "\n",
    "N1 = 29\n",
    "\n",
    "N2 = 29\n",
    "\n",
    "F = np.random.f(N1, N2, 1000000)\n",
    "\n",
    "#\n",
    "fig, ax = plt.subplots()\n",
    "fig = sns.distplot(F, hist = False, kde = True,\n",
    "             color = 'blue',\n",
    "             kde_kws={'linewidth': 3})\n",
    "ax.set_xlabel('X')\n",
    "ax.set_ylabel('Frequency')\n",
    "ax.set_title('Distribución Chi cuadrado y \\n regiones de rechazo para una prueba de dos colas al 98%')\n",
    "\n",
    "min_ylim, max_ylim = plt.ylim() # Extraemos límites del eje Y\n",
    "\n",
    "# Delimitamos las regiones para una prueba de dos colas\n",
    "plt.axvline(2.39, color = 'green', linestyle = 'dashed', linewidth = 2) # agregamos línea vertical\n",
    "plt.text(2.39*1.1, max_ylim*0.9, 'F[29, 29] = {:.2f}'.format(2.39), color = 'green')\n",
    "\n",
    "plt.axvline(2.39, color = 'red', linestyle = 'dashed', linewidth = 2)\n",
    "plt.text(2.39*1.1, max_ylim*0.7, 'F[29, 29] = {:.2f}'.format(2.39), color = 'red')\n",
    "\n",
    "\n",
    "plt.show()"
   ]
  },
  {
   "cell_type": "code",
   "execution_count": null,
   "metadata": {},
   "outputs": [],
   "source": [
    "# Varianzas muestrales:\n",
    "\n",
    "Sigma2_1 = group1.std()*group1.std()\n",
    "\n",
    "Sigma2_2 = group2.std()*group2.std()\n",
    "\n",
    "Sigma2_1, Sigma2_2"
   ]
  },
  {
   "cell_type": "code",
   "execution_count": null,
   "metadata": {},
   "outputs": [],
   "source": [
    "# Estadística F: ¿aceptamos o rechazamos la hipótesis nula?\n",
    "\n",
    "F = Sigma2_2/Sigma2_1\n",
    "\n",
    "F"
   ]
  },
  {
   "cell_type": "code",
   "execution_count": null,
   "metadata": {},
   "outputs": [],
   "source": [
    "# Medias muestrales\n",
    "Mu_1 = group1.mean()\n",
    "\n",
    "Mu_2 = group2.mean()\n",
    "\n",
    "Mu_1, Mu_2"
   ]
  },
  {
   "cell_type": "markdown",
   "metadata": {},
   "source": [
    "\\begin{equation*}\n",
    "    \\hat{\\sigma}_p = \\sqrt{ \\frac{ (n_1 - 1)\\hat{\\sigma}^2_1 + (n_2 - 1)\\hat{\\sigma}^2_2 }{n_1 + n_2 - 2} }\n",
    "\\end{equation*}\n"
   ]
  },
  {
   "cell_type": "code",
   "execution_count": null,
   "metadata": {},
   "outputs": [],
   "source": [
    "# Varianza promedio ponderada:\n",
    "\n",
    "Sigma = np.sqrt( ((30 - 1)*Sigma2_1 + (30 - 1)*Sigma2_2)/(30 + 30 - 2) )\n",
    "Sigma"
   ]
  },
  {
   "cell_type": "markdown",
   "metadata": {},
   "source": [
    "$$T = \\frac{ \\overline{X}_1 - \\overline{X}_2 - \\delta }{ \\hat{\\sigma}_p  \\sqrt{ \\frac{1}{n_1} + \\frac{1}{n_2} } } \\sim t_{[ n_1 + n_2 - 2 ]}$$"
   ]
  },
  {
   "cell_type": "code",
   "execution_count": null,
   "metadata": {},
   "outputs": [],
   "source": [
    "# Estadística T: ¿qué podemos concluir?\n",
    "\n",
    "T = (Mu_1 - Mu_2 - 0)/( Sigma*np.sqrt((1/30) + (1/30)) )\n",
    "\n",
    "P_Value = 2*(1 - t.cdf(abs(T), 30 + 30 - 2))\n",
    "\n",
    "T, P_Value"
   ]
  },
  {
   "cell_type": "code",
   "execution_count": null,
   "metadata": {},
   "outputs": [],
   "source": [
    "# Create a boxplot to compare means\n",
    "\n",
    "df.boxplot(\"mosq\", by=\"treatment\", figsize=(20, 10))\n",
    "\n",
    "plt.title('Boxplot de mosquitos capturados en cada tratamiento')\n",
    "\n",
    "plt.ylabel('Número de Mpsquitos')\n",
    "\n",
    "# Save the Figure\n",
    "#plt.savefig(\"NAME_FIGURE.png\", bbox_inches = 'tight')\n",
    "\n",
    "# Show the Figure\n",
    "plt.show()\n"
   ]
  },
  {
   "cell_type": "code",
   "execution_count": null,
   "metadata": {},
   "outputs": [],
   "source": []
  }
 ],
 "metadata": {
  "kernelspec": {
   "display_name": "Python 3",
   "language": "python",
   "name": "python3"
  },
  "language_info": {
   "codemirror_mode": {
    "name": "ipython",
    "version": 3
   },
   "file_extension": ".py",
   "mimetype": "text/x-python",
   "name": "python",
   "nbconvert_exporter": "python",
   "pygments_lexer": "ipython3",
   "version": "3.7.5"
  }
 },
 "nbformat": 4,
 "nbformat_minor": 2
}
